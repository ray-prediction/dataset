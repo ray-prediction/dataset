{
 "cells": [
  {
   "cell_type": "code",
   "execution_count": 1,
   "id": "fbf088ce",
   "metadata": {},
   "outputs": [
    {
     "name": "stderr",
     "output_type": "stream",
     "text": [
      "2025-04-22 21:07:44.605422: E external/local_xla/xla/stream_executor/cuda/cuda_fft.cc:467] Unable to register cuFFT factory: Attempting to register factory for plugin cuFFT when one has already been registered\n",
      "WARNING: All log messages before absl::InitializeLog() is called are written to STDERR\n",
      "E0000 00:00:1745370464.622064  260840 cuda_dnn.cc:8579] Unable to register cuDNN factory: Attempting to register factory for plugin cuDNN when one has already been registered\n",
      "E0000 00:00:1745370464.627034  260840 cuda_blas.cc:1407] Unable to register cuBLAS factory: Attempting to register factory for plugin cuBLAS when one has already been registered\n",
      "W0000 00:00:1745370464.640458  260840 computation_placer.cc:177] computation placer already registered. Please check linkage and avoid linking the same target more than once.\n",
      "W0000 00:00:1745370464.640477  260840 computation_placer.cc:177] computation placer already registered. Please check linkage and avoid linking the same target more than once.\n",
      "W0000 00:00:1745370464.640479  260840 computation_placer.cc:177] computation placer already registered. Please check linkage and avoid linking the same target more than once.\n",
      "W0000 00:00:1745370464.640481  260840 computation_placer.cc:177] computation placer already registered. Please check linkage and avoid linking the same target more than once.\n",
      "2025-04-22 21:07:44.644617: I tensorflow/core/platform/cpu_feature_guard.cc:210] This TensorFlow binary is optimized to use available CPU instructions in performance-critical operations.\n",
      "To enable the following instructions: AVX2 FMA, in other operations, rebuild TensorFlow with the appropriate compiler flags.\n"
     ]
    },
    {
     "name": "stdout",
     "output_type": "stream",
     "text": [
      "Using matplotlib backend: module://matplotlib_inline.backend_inline\n"
     ]
    }
   ],
   "source": [
    "import numpy as np\n",
    "import tensorflow as tf\n",
    "import os\n",
    "\n",
    "from sionna.rt import load_scene, Transmitter, Receiver, PlanarArray, ITURadioMaterial, PathSolver\n",
    "\n",
    "import mitsuba as mi\n",
    "import drjit as dr\n",
    "\n",
    "%matplotlib\n",
    "import matplotlib.pyplot as plt\n",
    "\n",
    "# mi.set_variant('scalar_rgb')"
   ]
  },
  {
   "cell_type": "code",
   "execution_count": 2,
   "id": "1a85876c",
   "metadata": {},
   "outputs": [
    {
     "name": "stdout",
     "output_type": "stream",
     "text": [
      "['row15_col13.xml', 'row0_col4.xml', 'row5_col1.xml', 'row2_col14.xml', 'row7_col0.xml', 'row2_col5.xml', 'row5_col8.xml', 'row3_col14.xml', 'row5_col6.xml', 'row0_col1.xml', 'row2_col11.xml', 'row3_col5.xml', 'row8_col7.xml', 'row8_col2.xml', 'row9_col3.xml', 'row1_col2.xml', 'row4_col2.xml', 'row15_col10.xml', 'row5_col7.xml', 'row10_col8.xml', 'row10_col7.xml', 'row8_col15.xml', 'row8_col0.xml', 'row4_col9.xml', 'row10_col12.xml', 'row6_col13.xml', 'row7_col4.xml', 'row10_col13.xml', 'row3_col10.xml', 'row0_col9.xml', 'row14_col8.xml', 'row11_col13.xml', 'row5_col15.xml', 'row2_col3.xml', 'row15_col9.xml', 'row4_col6.xml', 'row5_col0.xml', 'row0_col0.xml', 'row10_col10.xml', 'row11_col8.xml', 'row1_col8.xml', 'row2_col1.xml', 'row14_col15.xml', 'row2_col4.xml', 'row0_col6.xml', 'row11_col15.xml', 'row7_col8.xml', 'row5_col9.xml', 'row10_col3.xml', 'row0_col5.xml', 'row8_col13.xml', 'row4_col10.xml', 'row9_col6.xml', 'row0_col11.xml', 'row6_col11.xml', 'row15_col8.xml', 'row4_col0.xml', 'row13_col13.xml', 'row3_col2.xml', 'row4_col4.xml', 'row1_col15.xml', 'row7_col7.xml', 'row0_col8.xml', 'row9_col11.xml', 'row3_col11.xml', 'row15_col15.xml', 'row15_col14.xml', 'row8_col10.xml', 'row4_col3.xml', 'row5_col14.xml', 'row9_col1.xml', 'row2_col7.xml', 'row5_col2.xml', 'row9_col0.xml', 'row8_col3.xml', 'row6_col14.xml', 'row0_col15.xml', 'row5_col4.xml', 'row5_col13.xml', 'row3_col12.xml', 'row10_col2.xml', 'row14_col11.xml', 'row6_col3.xml', 'row15_col11.xml', 'row4_col5.xml', 'row12_col11.xml', 'row8_col11.xml', 'row11_col14.xml', 'row6_col2.xml', 'row1_col9.xml', 'row0_col13.xml', 'row1_col11.xml', 'row3_col6.xml', 'row9_col13.xml', 'row10_col14.xml', 'row14_col14.xml', 'row7_col5.xml', 'row2_col15.xml', 'row9_col7.xml', 'row6_col5.xml', 'row7_col11.xml', 'row9_col9.xml', 'row8_col9.xml', 'row4_col1.xml', 'row10_col6.xml', 'row2_col12.xml', 'row3_col15.xml', 'row13_col12.xml', 'row9_col4.xml', 'row7_col1.xml', 'row6_col15.xml', 'row10_col5.xml', 'row3_col7.xml', 'row3_col9.xml', 'row13_col14.xml', 'row8_col5.xml', 'row12_col9.xml', 'row1_col6.xml', 'row11_col11.xml', 'row10_col0.xml', 'row5_col3.xml', 'row10_col11.xml', 'row11_col10.xml', 'row6_col8.xml', 'row6_col7.xml', 'row0_col7.xml', 'row7_col3.xml', 'row6_col0.xml', 'row9_col2.xml', 'row6_col9.xml', 'row7_col12.xml', 'row3_col1.xml', 'row14_col13.xml', 'row12_col8.xml', 'row3_col4.xml', 'row5_col11.xml', 'row9_col5.xml', 'row13_col8.xml', 'row14_col9.xml', 'row3_col13.xml', 'row1_col13.xml', 'row7_col9.xml', 'row3_col3.xml', 'row2_col10.xml', 'row1_col3.xml', 'row12_col13.xml', 'row12_col12.xml', 'row6_col1.xml', 'row0_col3.xml', 'row6_col12.xml', 'row8_col1.xml', 'row11_col9.xml', 'row10_col4.xml', 'row7_col14.xml', 'row4_col14.xml', 'row5_col5.xml', 'row13_col15.xml', 'row12_col10.xml', 'row7_col10.xml', 'row9_col14.xml', 'row12_col14.xml', 'row3_col8.xml', 'row6_col10.xml', 'row2_col13.xml', 'row14_col10.xml', 'row1_col4.xml', 'row8_col4.xml', 'row13_col11.xml', 'row13_col10.xml', 'row6_col4.xml', 'row7_col6.xml', 'row9_col12.xml', 'row9_col15.xml', 'row15_col12.xml', 'row4_col12.xml', 'row1_col7.xml', 'row8_col14.xml', 'row8_col12.xml', 'row13_col9.xml', 'row1_col14.xml', 'row11_col12.xml', 'row2_col2.xml', 'row4_col11.xml', 'row4_col15.xml', 'row0_col14.xml', 'row1_col12.xml', 'row7_col13.xml', 'row3_col0.xml', 'row0_col12.xml', 'row1_col5.xml', 'row5_col10.xml', 'row2_col8.xml', 'row1_col0.xml', 'row14_col12.xml', 'row4_col13.xml', 'row2_col0.xml', 'row10_col15.xml', 'row0_col10.xml', 'row8_col6.xml', 'row4_col7.xml', 'row9_col8.xml', 'row7_col15.xml', 'row10_col9.xml', 'row6_col6.xml', 'row8_col8.xml', 'row9_col10.xml', 'row2_col9.xml', 'row12_col15.xml', 'row2_col6.xml', 'row0_col2.xml', 'row10_col1.xml', 'row5_col12.xml', 'row1_col10.xml', 'row4_col8.xml', 'row1_col1.xml', 'row7_col2.xml']\n"
     ]
    }
   ],
   "source": [
    "min = (0,0, 0)\n",
    "max = (275, 275, 300)\n",
    "\n",
    "h_spacing = 25\n",
    "v_spacing = 25\n",
    "num_tx = 1\n",
    "\n",
    "scene_dir = \"minis3\"\n",
    "scene_files = [f for f in os.listdir(scene_dir) if f.endswith('.xml')]\n",
    "print(scene_files)"
   ]
  },
  {
   "cell_type": "code",
   "execution_count": 3,
   "id": "42f2897a",
   "metadata": {},
   "outputs": [],
   "source": [
    "scene_file = scene_files[10]\n",
    "scene = load_scene(os.path.join(scene_dir, scene_file))\n",
    "output_dir = os.path.splitext(scene_file)[0]\n",
    "\n",
    "try:\n",
    "    os.mkdir(output_dir)\n",
    "except OSError:\n",
    "    print('dir already exists')"
   ]
  },
  {
   "cell_type": "code",
   "execution_count": 4,
   "id": "5b33c275",
   "metadata": {},
   "outputs": [],
   "source": [
    "rx_points = []\n",
    "\n",
    "x_start, y_start, _ = min\n",
    "x_end, y_end, _ = max\n",
    "xx = np.linspace(x_start, x_end, h_spacing)\n",
    "yy = np.linspace(y_start, y_end, h_spacing)\n",
    "ray_pos = np.array([(x, y, 1000) for x in xx for y in yy])\n",
    "\n",
    "z_rays = mi.Ray3f(o=ray_pos.T, d=(0, 0, -1))\n",
    "z_hits = scene.mi_scene.ray_intersect(z_rays)\n",
    "\n",
    "for z_hit, valid in zip(z_hits.p.numpy().T, z_hits.is_valid()):\n",
    "    if (not valid):\n",
    "        continue\n",
    "    # start = int(np.ceil(z_hit[2] / spacing) * spacing)\n",
    "    start = int(z_hit[2] + 10)\n",
    "    \n",
    "    # print(start)\n",
    "    for i in range(start, 100, v_spacing):\n",
    "        # print([z_hit[0], z_hit[1], i])\n",
    "        rx_points.append(np.array([z_hit[0], z_hit[1], i]))\n",
    "    # rx_points.append(z_hit)\n",
    "# print(rx_points)"
   ]
  },
  {
   "cell_type": "code",
   "execution_count": 5,
   "id": "999f1fd4",
   "metadata": {},
   "outputs": [],
   "source": [
    "## Include points that did not have a valid hitpoint due to lack of floor right now\n",
    "for i, v in enumerate(z_hits.is_valid()):\n",
    "    if(not v):\n",
    "        r = ray_pos[i]\n",
    "        for i in range(5, 100, v_spacing):\n",
    "            rx_points.append(np.array([r[0], r[1], i]))\n",
    "        # rx_points.append(np.array([r[0], r[1], 0]))"
   ]
  },
  {
   "cell_type": "code",
   "execution_count": 6,
   "id": "eb9e50a6",
   "metadata": {},
   "outputs": [],
   "source": [
    "scene.frequency # Defaults to 3.5GHz\n",
    "\n",
    "mat = ITURadioMaterial(name='concrete', itu_type='concrete', thickness=0.1, scattering_coefficient=0.0, xpd_coefficient=0.0)\n",
    "\n",
    "# Set all objects to concrete for now\n",
    "for obj in scene.objects.values():\n",
    "    obj.radio_material = mat\n",
    "\n",
    "# Configure antenna array for all transmitters\n",
    "scene.tx_array = PlanarArray(num_rows=1,\n",
    "                          num_cols=1,\n",
    "                          vertical_spacing=1,\n",
    "                          horizontal_spacing=1,\n",
    "                          polarization=\"V\",\n",
    "                          pattern=\"iso\")\n",
    "\n",
    "# Configure antenna array for all receivers\n",
    "scene.rx_array = PlanarArray(num_rows=1,\n",
    "                          num_cols=1,\n",
    "                          vertical_spacing=0.5,\n",
    "                          horizontal_spacing=0.5,\n",
    "                          polarization=\"V\",\n",
    "                          pattern=\"iso\")\n",
    "\n",
    "# Create transmitter\n",
    "# tx = Transmitter(name=\"tx\",\n",
    "#               position=[200,200,100],\n",
    "#               orientation=[0,0,0])\n",
    "# scene.add(tx)"
   ]
  },
  {
   "cell_type": "code",
   "execution_count": 7,
   "id": "293de95d",
   "metadata": {},
   "outputs": [],
   "source": [
    "# Create receivers\n",
    "for rx_i in range(len(rx_points)):\n",
    "#     print(rx_points[rx_i])\n",
    "    rx = Receiver(name=f\"rx_{rx_i}\",\n",
    "            position=rx_points[rx_i],\n",
    "            orientation=[0,0,0])\n",
    "    scene.add(rx)"
   ]
  },
  {
   "cell_type": "code",
   "execution_count": 8,
   "id": "b75d870d",
   "metadata": {},
   "outputs": [
    {
     "name": "stdout",
     "output_type": "stream",
     "text": [
      "[1177]\n"
     ]
    }
   ],
   "source": [
    "# tx_pos = []\n",
    "# for tx_i in range(num_tx):\n",
    "    \n",
    "points = np.array(rx_points)\n",
    "filtered = points[(points[:,2] <= 50)]\n",
    "# print(filtered)\n",
    "filtered[:,2] += 5\n",
    "# print(filtered)\n",
    "\n",
    "np.random.seed(42)\n",
    "c = np.random.choice(filtered.shape[0], size=num_tx, replace=False)\n",
    "print(c)\n",
    "\n",
    "tx_pos = filtered[c]\n",
    "\n",
    "for tx_i in range(num_tx):\n",
    "    tx = Transmitter(name=f\"tx_{tx_i}\",\n",
    "            position=tx_pos[tx_i],\n",
    "            orientation=[0,0,0])\n",
    "    scene.add(tx)"
   ]
  },
  {
   "cell_type": "code",
   "execution_count": 9,
   "id": "0609cd8e",
   "metadata": {},
   "outputs": [],
   "source": [
    "p_solver  = PathSolver()\n",
    "paths = p_solver(scene=scene,\n",
    "                 max_depth=5,\n",
    "                 los=False,\n",
    "                 specular_reflection=True,\n",
    "                 diffuse_reflection=False,\n",
    "                 refraction=False,\n",
    "                 synthetic_array=False,\n",
    "                 seed=41)"
   ]
  },
  {
   "cell_type": "code",
   "execution_count": 10,
   "id": "29849028",
   "metadata": {},
   "outputs": [],
   "source": [
    "# import cProfile\n",
    "# p_solver  = PathSolver()\n",
    "\n",
    "# cProfile.run(p_solver(scene=scene,\n",
    "#                  max_depth=5,\n",
    "#                  los=False,\n",
    "#                  specular_reflection=True,\n",
    "#                  diffuse_reflection=False,\n",
    "#                  refraction=False,\n",
    "#                  synthetic_array=False,\n",
    "#                  seed=41))\n"
   ]
  },
  {
   "cell_type": "code",
   "execution_count": 11,
   "id": "f789bfd6",
   "metadata": {},
   "outputs": [
    {
     "data": {
      "application/vnd.jupyter.widget-view+json": {
       "model_id": "448af278c8e743f389467a0eb214319e",
       "version_major": 2,
       "version_minor": 0
      },
      "text/plain": [
       "HBox(children=(Renderer(camera=PerspectiveCamera(aspect=1.31, children=(DirectionalLight(intensity=0.25, posit…"
      ]
     },
     "metadata": {},
     "output_type": "display_data"
    }
   ],
   "source": [
    "scene.preview(paths=paths)\n",
    "None"
   ]
  },
  {
   "cell_type": "markdown",
   "id": "c4c35bd2",
   "metadata": {},
   "source": [
    "Export fields to csv's\n",
    "\n",
    "transmitter locs\n",
    "receiver locs\n",
    "a\n",
    "primitives\n",
    "pickle paths obj\n"
   ]
  },
  {
   "cell_type": "code",
   "execution_count": 12,
   "id": "6faec405",
   "metadata": {},
   "outputs": [],
   "source": [
    "def log_flat_arr(file, X, fmt='%u'):\n",
    "    shape = X.shape\n",
    "    flattened = X.reshape(shape[0], -1)\n",
    "    np.savetxt(fname=os.path.join(output_dir, file), X=flattened, header=f'{shape}', fmt=fmt)\n"
   ]
  },
  {
   "cell_type": "code",
   "execution_count": 13,
   "id": "ec310410",
   "metadata": {},
   "outputs": [],
   "source": [
    "# scene.transmitters.\n",
    "tx_log = paths.sources.numpy().T\n",
    "log_flat_arr(\"tx_locations\", tx_log)\n",
    "# np.savetxt(fname=os.path.join(output_dir, \"tx_locations\"), X=tx_log)\n",
    "\n",
    "rx_log = paths.targets.numpy().T\n",
    "log_flat_arr(\"rx_locations\", rx_log)\n",
    "\n",
    "# np.savetxt(fname=os.path.join(output_dir, \"rx_locations\"), X=rx_log)\n",
    "\n",
    "real_a_log = paths.a[0].numpy()\n",
    "# print(real_a_log.shape)\n",
    "imaginary_a_log = paths.a[1].numpy()\n",
    "# print(real_a_log.reshape(real_a_log.shape[0], -1).shape)\n",
    "# real_a_log = real_a_log.reshape(real_a_log.shape[0], -1)\n",
    "# imaginary_a_log = imaginary_a_log.reshape(imaginary_a_log.shape[0], -1)\n",
    "log_flat_arr(\"real_a\", real_a_log)\n",
    "log_flat_arr(\"imaginary_a\", imaginary_a_log)\n",
    "\n",
    "\n",
    "\n",
    "# np.savetxt(fname=os.path.join(output_dir, \"real_a\"), X=real_a_log)\n",
    "# np.savetxt(fname=os.path.join(output_dir, \"imaginary_a\"), X=imaginary_a_log)\n",
    "\n",
    "# paths.valid.numpy().shape\n",
    "\n",
    "# paths.a\n",
    "# paths.valid.shape\n",
    "valid_log = paths.valid.numpy()\n",
    "\n",
    "# valid_shape = valid_log.shape\n",
    "# valid_log = valid_log.reshape(valid_log.shape[0], -1)\n",
    "\n",
    "# np.savetxt(fname=os.path.join(output_dir, \"valid\"), X=valid_log, header=f'{valid_shape}')\n",
    "log_flat_arr(\"valid\", valid_log)\n",
    "\n",
    "primitives_log = paths.primitives.numpy()\n",
    "log_flat_arr(\"primitives\", primitives_log)\n",
    "\n",
    "vertices_log = paths.primitives.numpy()\n",
    "log_flat_arr(\"vertices\", vertices_log)\n",
    "\n"
   ]
  },
  {
   "cell_type": "code",
   "execution_count": 14,
   "id": "67897b0d",
   "metadata": {},
   "outputs": [
    {
     "data": {
      "text/plain": [
       "numpy.ndarray"
      ]
     },
     "execution_count": 14,
     "metadata": {},
     "output_type": "execute_result"
    }
   ],
   "source": [
    "type(valid_log)"
   ]
  },
  {
   "cell_type": "code",
   "execution_count": 23,
   "id": "b0f33ae3",
   "metadata": {},
   "outputs": [
    {
     "data": {
      "text/plain": [
       "array([[0, 0, 0, 0],\n",
       "       [0, 0, 0, 0],\n",
       "       [0, 0, 0, 0],\n",
       "       ...,\n",
       "       [1, 0, 0, 0],\n",
       "       [1, 1, 0, 0],\n",
       "       [1, 1, 0, 0]])"
      ]
     },
     "execution_count": 23,
     "metadata": {},
     "output_type": "execute_result"
    }
   ],
   "source": [
    "read_in = np.genfromtxt(fname=os.path.join(output_dir, \"valid\"), dtype=int)\n",
    "# np.array_equal(read_in.reshape(4842, 1, 2, 1, 8), paths.a[0].numpy())\n",
    "read_in"
   ]
  }
 ],
 "metadata": {
  "kernelspec": {
   "display_name": "dataenv",
   "language": "python",
   "name": "python3"
  },
  "language_info": {
   "codemirror_mode": {
    "name": "ipython",
    "version": 3
   },
   "file_extension": ".py",
   "mimetype": "text/x-python",
   "name": "python",
   "nbconvert_exporter": "python",
   "pygments_lexer": "ipython3",
   "version": "3.11.11"
  }
 },
 "nbformat": 4,
 "nbformat_minor": 5
}
