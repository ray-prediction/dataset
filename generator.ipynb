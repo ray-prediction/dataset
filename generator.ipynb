{
 "cells": [
  {
   "cell_type": "code",
   "execution_count": null,
   "id": "fbf088ce",
   "metadata": {},
   "outputs": [],
   "source": [
    "import numpy as np\n",
    "import tensorflow as tf\n",
    "import os\n",
    "\n",
    "import sionna\n",
    "from sionna.rt import load_scene, Transmitter, Receiver, PlanarArray, ITURadioMaterial, PathSolver\n",
    "\n",
    "import mitsuba as mi\n",
    "import drjit as dr\n",
    "\n",
    "%matplotlib\n",
    "import matplotlib.pyplot as plt\n",
    "\n",
    "# mi.set_variant('scalar_rgb')"
   ]
  },
  {
   "cell_type": "code",
   "execution_count": null,
   "id": "1a85876c",
   "metadata": {},
   "outputs": [],
   "source": [
    "min = (0,0, 0)\n",
    "max = (500, 500, 1000)\n",
    "\n",
    "spacing = 25\n",
    "num_tx = 10\n",
    "\n",
    "scene_dir = \"minis\"\n",
    "scene_files = [f for f in os.listdir(scene_dir) if f.endswith('.xml')]\n",
    "print(scene_files)"
   ]
  },
  {
   "cell_type": "code",
   "execution_count": null,
   "id": "42f2897a",
   "metadata": {},
   "outputs": [],
   "source": [
    "scene_file = scene_files[1]\n",
    "scene = load_scene(os.path.join(scene_dir, scene_file))\n",
    "\n",
    "try:\n",
    "    os.mkdir(os.path.splitext(scene_file)[0])\n",
    "except OSError:\n",
    "    print('dir already exists')"
   ]
  },
  {
   "cell_type": "code",
   "execution_count": null,
   "id": "5b33c275",
   "metadata": {},
   "outputs": [],
   "source": [
    "rx_points = []\n",
    "\n",
    "x_start, y_start, _ = min\n",
    "x_end, y_end, _ = max\n",
    "xx = np.linspace(x_start, x_end, spacing)\n",
    "yy = np.linspace(y_start, y_end, spacing)\n",
    "ray_pos = np.array([(x, y, 1000) for x in xx for y in yy])\n",
    "\n",
    "z_rays = mi.Ray3f(o=ray_pos.T, d=(0, 0, -1))\n",
    "z_hits = scene.mi_scene.ray_intersect(z_rays)\n",
    "\n",
    "for z_hit, valid in zip(z_hits.p.numpy().T, z_hits.is_valid()):\n",
    "    if (not valid):\n",
    "        continue\n",
    "    # start = int(np.ceil(z_hit[2] / spacing) * spacing)\n",
    "    start = int(z_hit[2] + 10)\n",
    "    \n",
    "    # print(start)\n",
    "    for i in range(start, 200, spacing):\n",
    "        # print([z_hit[0], z_hit[1], i])\n",
    "        rx_points.append(np.array([z_hit[0], z_hit[1], i]))\n",
    "    # rx_points.append(z_hit)\n",
    "# print(rx_points)"
   ]
  },
  {
   "cell_type": "code",
   "execution_count": null,
   "id": "999f1fd4",
   "metadata": {},
   "outputs": [],
   "source": [
    "## Include points that did not have a valid hitpoint due to lack of floor right now\n",
    "for i, v in enumerate(z_hits.is_valid()):\n",
    "    if(not v):\n",
    "        r = ray_pos[i]\n",
    "        for i in range(0, 200, spacing):\n",
    "            rx_points.append(np.array([r[0], r[1], i]))\n",
    "        # rx_points.append(np.array([r[0], r[1], 0]))"
   ]
  },
  {
   "cell_type": "code",
   "execution_count": null,
   "id": "eb9e50a6",
   "metadata": {},
   "outputs": [],
   "source": [
    "scene.frequency # Defaults to 3.5GHz\n",
    "\n",
    "mat = ITURadioMaterial(name='concrete', itu_type='concrete', thickness=0.1, scattering_coefficient=0.0, xpd_coefficient=0.0)\n",
    "\n",
    "# Set all objects to concrete for now\n",
    "for obj in scene.objects.values():\n",
    "    obj.radio_material = mat\n",
    "\n",
    "# Configure antenna array for all transmitters\n",
    "scene.tx_array = PlanarArray(num_rows=1,\n",
    "                          num_cols=1,\n",
    "                          vertical_spacing=1,\n",
    "                          horizontal_spacing=1,\n",
    "                          polarization=\"V\",\n",
    "                          pattern=\"iso\")\n",
    "\n",
    "# Configure antenna array for all receivers\n",
    "scene.rx_array = PlanarArray(num_rows=1,\n",
    "                          num_cols=1,\n",
    "                          vertical_spacing=0.5,\n",
    "                          horizontal_spacing=0.5,\n",
    "                          polarization=\"V\",\n",
    "                          pattern=\"iso\")\n",
    "\n",
    "# Create transmitter\n",
    "# tx = Transmitter(name=\"tx\",\n",
    "#               position=[200,200,100],\n",
    "#               orientation=[0,0,0])\n",
    "# scene.add(tx)"
   ]
  },
  {
   "cell_type": "code",
   "execution_count": null,
   "id": "293de95d",
   "metadata": {},
   "outputs": [],
   "source": [
    "# Create receivers\n",
    "for rx_i in range(len(rx_points)):\n",
    "#     print(rx_points[rx_i])\n",
    "    rx = Receiver(name=f\"rx_{rx_i}\",\n",
    "            position=rx_points[rx_i],\n",
    "            orientation=[0,0,0])\n",
    "    scene.add(rx)"
   ]
  },
  {
   "cell_type": "code",
   "execution_count": null,
   "id": "b75d870d",
   "metadata": {},
   "outputs": [],
   "source": [
    "# tx_pos = []\n",
    "# for tx_i in range(num_tx):\n",
    "    \n",
    "points = np.array(rx_points)\n",
    "filtered = points[(points[:,2] <= 50)]\n",
    "# print(filtered)\n",
    "filtered[:,2] += 5\n",
    "# print(filtered)\n",
    "\n",
    "np.random.seed(42)\n",
    "c = np.random.choice(filtered.shape[0], size=num_tx, replace=False)\n",
    "print(c)\n",
    "\n",
    "tx_pos = filtered[c]\n",
    "\n",
    "for tx_i in range(num_tx):\n",
    "    tx = Transmitter(name=f\"tx_{tx_i}\",\n",
    "            position=tx_pos[tx_i],\n",
    "            orientation=[0,0,0])\n",
    "    scene.add(tx)"
   ]
  },
  {
   "cell_type": "code",
   "execution_count": null,
   "id": "0609cd8e",
   "metadata": {},
   "outputs": [],
   "source": [
    "p_solver  = PathSolver()\n",
    "paths = p_solver(scene=scene,\n",
    "                 max_depth=5,\n",
    "                 los=False,\n",
    "                 specular_reflection=True,\n",
    "                 diffuse_reflection=False,\n",
    "                 refraction=False,\n",
    "                 synthetic_array=False,\n",
    "                 seed=41)"
   ]
  },
  {
   "cell_type": "code",
   "execution_count": null,
   "id": "29849028",
   "metadata": {},
   "outputs": [],
   "source": [
    "# import cProfile\n",
    "# p_solver  = PathSolver()\n",
    "\n",
    "# cProfile.run(p_solver(scene=scene,\n",
    "#                  max_depth=5,\n",
    "#                  los=False,\n",
    "#                  specular_reflection=True,\n",
    "#                  diffuse_reflection=False,\n",
    "#                  refraction=False,\n",
    "#                  synthetic_array=False,\n",
    "#                  seed=41))\n"
   ]
  },
  {
   "cell_type": "code",
   "execution_count": null,
   "id": "f789bfd6",
   "metadata": {},
   "outputs": [],
   "source": [
    "scene.preview(paths=paths)"
   ]
  },
  {
   "cell_type": "markdown",
   "id": "c4c35bd2",
   "metadata": {},
   "source": [
    "Export fields to csv's\n",
    "\n",
    "transmitter locs\n",
    "receiver locs\n",
    "a\n",
    "primitives\n",
    "pickle paths obj\n"
   ]
  },
  {
   "cell_type": "code",
   "execution_count": null,
   "id": "ec310410",
   "metadata": {},
   "outputs": [],
   "source": [
    "# scene.transmitters.\n",
    "paths.sources\n",
    "# paths.a\n",
    "# paths.valid.shape\n"
   ]
  }
 ],
 "metadata": {
  "kernelspec": {
   "display_name": ".venv",
   "language": "python",
   "name": "python3"
  },
  "language_info": {
   "codemirror_mode": {
    "name": "ipython",
    "version": 3
   },
   "file_extension": ".py",
   "mimetype": "text/x-python",
   "name": "python",
   "nbconvert_exporter": "python",
   "pygments_lexer": "ipython3",
   "version": "3.11.2"
  }
 },
 "nbformat": 4,
 "nbformat_minor": 5
}
