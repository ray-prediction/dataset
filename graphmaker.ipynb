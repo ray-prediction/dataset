{
 "cells": [
  {
   "cell_type": "code",
   "execution_count": 1,
   "id": "2720db6f",
   "metadata": {},
   "outputs": [],
   "source": [
    "from sionna.rt import load_scene, PlanarArray, Receiver, Transmitter\n",
    "\n",
    "import mitsuba as mi\n",
    "import drjit as dr\n",
    "import numpy as np\n",
    "import torch\n",
    "\n",
    "scene = load_scene(filename=\"cubes/cubes.xml\")\n",
    "mi_scene = scene.mi_scene"
   ]
  },
  {
   "cell_type": "code",
   "execution_count": 2,
   "id": "54c89eee",
   "metadata": {},
   "outputs": [
    {
     "name": "stdout",
     "output_type": "stream",
     "text": [
      "[3 2 1]\n",
      "[ 0 24 12  0]\n"
     ]
    }
   ],
   "source": [
    "shapes = mi_scene.shapes_dr()\n",
    "\n",
    "# Will throw an error if there is a non-mesh shape\n",
    "shapes = mi.MeshPtr(shapes)\n",
    "# print(shapes)\n",
    "\n",
    "shape_ptrs = dr.reinterpret_array(mi.UInt32, shapes).numpy()\n",
    "print(shape_ptrs)\n",
    "\n",
    "face_normals = [\n",
    "    s.face_normal(dr.arange(dr.cuda.UInt, s.face_count())).torch().T for s in shapes\n",
    "]\n",
    "face_normals = torch.vstack(face_normals)\n",
    "\n",
    "# Find the average between the 3 vertices of a triangle mesh\n",
    "# This will be the source for ray intersection testing\n",
    "face_averages = []\n",
    "\n",
    "# shape_ptr_to_offset = {}\n",
    "shape_ptr_to_offset = np.zeros(shape=shape_ptrs.shape[0]+1, dtype=int)\n",
    "shape_ptr_to_offset\n",
    "offset_counter = 0\n",
    "for i, s in enumerate(shapes):\n",
    "    shape_ptr_to_offset[shape_ptrs[i]] = offset_counter\n",
    "    offset_counter += s.primitive_count()\n",
    "\n",
    "    indices = dr.arange(dr.cuda.UInt, s.face_count())\n",
    "    vertex_indices = dr.ravel(s.face_indices(indices), order='F')\n",
    "    vertices = s.vertex_position(vertex_indices)\n",
    "    vertices = vertices.torch().T.reshape(-1, 3, 3)\n",
    "    face_averages.append(vertices)\n",
    "\n",
    "face_averages = torch.vstack(face_averages)\n",
    "face_averages = face_averages.sum(1) / 3\n",
    "\n",
    "face_averages = mi.Point3f(face_averages.T)\n",
    "face_normals = mi.Vector3f(face_normals.T)\n",
    "# print(face_averages)\n",
    "# print(face_normals)\n",
    "\n",
    "print(shape_ptr_to_offset)\n"
   ]
  },
  {
   "cell_type": "code",
   "execution_count": 3,
   "id": "5e574fd0",
   "metadata": {},
   "outputs": [],
   "source": [
    "# Generate rays to be shot from each surface in 180 cone\n",
    "# Currently generates 360 then filters based on dot product\n",
    "\n",
    "from sionna.rt.utils import fibonacci_lattice, spawn_ray_from_sources\n",
    "ray_per_source = 10000\n",
    "\n",
    "sources = face_averages + (face_normals * 0.0001)\n",
    "rays = spawn_ray_from_sources(fibonacci_lattice, ray_per_source, sources) \n",
    "# print(rays)\n",
    "\n",
    "norms_expanded = dr.repeat(face_normals, ray_per_source)\n",
    "# print(norms_expanded)\n",
    "# shouldn't this be positive dot prod???\n",
    "active = dr.dot(rays.d, norms_expanded) > 0\n",
    "# print(active)"
   ]
  },
  {
   "cell_type": "code",
   "execution_count": 4,
   "id": "f31ea3b1",
   "metadata": {},
   "outputs": [
    {
     "name": "stdout",
     "output_type": "stream",
     "text": [
      "[  2373   2407   2441 ... 356246 356259 356280]\n",
      "(4252,)\n"
     ]
    }
   ],
   "source": [
    "interactions = mi_scene.ray_intersect_preliminary(rays, active=active)\n",
    "# print(interactions)\n",
    "full_int = interactions.compute_surface_interaction(rays, active=active)\n",
    "# print(full_int.p)\n",
    "\n",
    "count = 0\n",
    "for s in mi_scene.shapes():\n",
    "    count += s.primitive_count()\n",
    "\n",
    "# a=dr.select(interactions.is_valid() & (interactions.t > 1.5), interactions.prim_index, dr.cuda.UInt(count)).numpy()\n",
    "# a=dr.select(full_int.is_valid(), full_int.prim_index, dr.cuda.UInt(count)).numpy()\n",
    "# interaction_shapes=dr.select(full_int.is_valid(), full_int.shape, dr.cuda.UInt32(36000)).numpy()\n",
    "indices = np.nonzero(full_int.is_valid().numpy())[0]\n",
    "print(indices)\n",
    "interaction_shapes = full_int.shape.numpy()[full_int.is_valid()]\n",
    "prim_indices = full_int.prim_index.numpy()[full_int.is_valid()]\n",
    "# interaction_shapes[0].id()\n",
    "print(interaction_shapes.shape)\n",
    "\n",
    "# b=dr.select(interactions.is_valid(), interactions.t, dr.cuda.Float32(-1)).numpy()\n",
    "\n",
    "# for i in range(len(a)):\n",
    "#     print(a[i], b[i])\n",
    "\n",
    "\n",
    "\n",
    "# for i, b in enumerate(a):\n",
    "#     print(b, interactions.prim_index[i])\n",
    "# a.shape\n"
   ]
  },
  {
   "cell_type": "code",
   "execution_count": 5,
   "id": "3ccb6138",
   "metadata": {},
   "outputs": [],
   "source": [
    "# print(\"shapes:\", mi_scene.shapes())\n",
    "# print(full_int.shape_index)\n",
    "# # wtf=dr.reinterpret_array(mi.UInt32, full_int.shape)\n",
    "# # wtf2 = dr.reinterpret_array(mi.ShapePtr, wtf)\n",
    "# # # print(wtf)\n",
    "# # for w in wtf2:\n",
    "# #     print(w.id())\n",
    "# print(wtf2[3598].has_mesh_attributes())\n",
    "# np.unique(wtf)"
   ]
  },
  {
   "cell_type": "code",
   "execution_count": 6,
   "id": "aa2df106",
   "metadata": {},
   "outputs": [],
   "source": [
    "# full_valid = full_int.is_valid().numpy()\n",
    "# print(full_valid.shape)\n",
    "# hit_points = full_int.p.numpy().T[full_valid]\n",
    "\n",
    "# origins = rays.o.numpy().T[full_valid]\n",
    "# print(origins.shape)\n",
    "\n",
    "# scene.preview()\n",
    "\n",
    "# # This cell is lowkey pretty illegal but here's to being easier to implement\n",
    "# ## THIS REQUIRES persist=True in call self._add_child(mesh, pmin, pmax, persist=True) in _plot_lines (preview.py)\n",
    "\n",
    "\n",
    "# colors = np.array([1.0, 0.0, 0.0], dtype=np.float32)\n",
    "# colors = np.tile(colors, (origins.shape[0], 1))\n",
    "# # print(colors)\n",
    "# # print(colors.dtype)\n",
    "# width = np.array(1.0)\n",
    "# scene._preview_widget._plot_lines(origins, hit_points, colors, width)"
   ]
  },
  {
   "cell_type": "code",
   "execution_count": 7,
   "id": "40bdcd39",
   "metadata": {},
   "outputs": [],
   "source": [
    "# dir(full_int.prim_index)\n",
    "# collision_shape_i = full_int.prim_index.numpy()[full_valid]\n",
    "\n",
    "# np.unique(collision_shape_i)"
   ]
  },
  {
   "cell_type": "code",
   "execution_count": 8,
   "id": "ed20e482",
   "metadata": {},
   "outputs": [
    {
     "data": {
      "application/vnd.jupyter.widget-view+json": {
       "model_id": "81fd5a1e9c484fc5ac549fbb7ad300ee",
       "version_major": 2,
       "version_minor": 0
      },
      "text/plain": [
       "HBox(children=(Renderer(camera=PerspectiveCamera(aspect=1.31, children=(DirectionalLight(intensity=0.25, posit…"
      ]
     },
     "metadata": {},
     "output_type": "display_data"
    }
   ],
   "source": [
    "scene.preview()\n",
    "None"
   ]
  },
  {
   "cell_type": "code",
   "execution_count": 9,
   "id": "1f0c9f0a",
   "metadata": {},
   "outputs": [
    {
     "name": "stdout",
     "output_type": "stream",
     "text": [
      "[-0.33333334  4.0571914   0.47140452] {34, 35, 14, 15}\n",
      "[0.33333334 4.528596   0.94280905] {34, 35, 14, 15}\n",
      "[1.         5.         0.47140452] set()\n",
      "[ 1.          5.         -0.47140452] set()\n",
      "[ 0.33333334  4.0571914  -0.47140452] {34, 35, 14, 15}\n",
      "[-0.33333334  4.528596   -0.94280905] {34, 35, 14, 15, 19}\n",
      "[-0.33333334  5.942809   -0.47140452] set()\n",
      "[ 0.33333334  5.4714046  -0.94280905] set()\n",
      "[-0.33333334  5.4714046   0.94280905] set()\n",
      "[0.33333334 5.942809   0.47140452] set()\n",
      "[-1.        4.528596  0.      ] {18, 19, 14, 15}\n",
      "[-1.         5.4714046  0.       ] {18, 19, 14, 15}\n",
      "[-4.8267746 -1.0799167  2.8387704] {24, 25, 27, 28, 29}\n",
      "[-4.083797  -0.5973266  3.1612298] {24, 25, 28, 29}\n",
      "[-3.9402404   0.29087383  2.8794847 ] {0, 1, 4, 5, 10, 11, 24, 25, 28, 29}\n",
      "[-4.5396614  0.6964841  2.2752793] {0, 1, 4, 5, 10, 11, 24, 25, 28, 29}\n",
      "[-4.9194956  -0.34518716  1.9528196 ] {5, 10, 11, 28, 29}\n",
      "[-5.7893386  -0.11522536  2.2345653 ] {10, 11, 28, 29}\n",
      "[-5.6799254   0.75079745  3.4429755 ] {0, 1, 10, 11}\n",
      "[-5.409504    0.92644584  2.5570247 ] {0, 1, 10, 11}\n",
      "[-4.7173615  -0.21389394  4.0471807 ] {0, 1}\n",
      "[-4.573805   0.6743064  3.765435 ] {1}\n",
      "[-5.696617   -0.84995496  3.1205158 ] set()\n",
      "[-5.823482   -0.13740298  3.724721  ] set()\n",
      "[-0.33333334  0.33333334  1.        ] {0, 1, 12, 13, 14, 15}\n",
      "[ 0.33333334 -0.33333334  1.        ] {0, 1, 12, 13, 14, 15}\n",
      "[ 0.33333334 -1.          0.33333334] {12}\n",
      "[-0.33333334 -1.         -0.33333334] {12}\n",
      "[-1.         -0.33333334  0.33333334] {12, 13, 14, 15, 16}\n",
      "[-1.          0.33333334 -0.33333334] {12, 13, 14, 15, 16, 17}\n",
      "[ 0.33333334  0.33333334 -1.        ] {4, 5}\n",
      "[-0.33333334 -0.33333334 -1.        ] {4, 5}\n",
      "[1.         0.33333334 0.33333334] set()\n",
      "[ 1.         -0.33333334 -0.33333334] set()\n",
      "[-0.33333334  1.          0.33333334] {0, 1, 4, 5, 14, 15}\n",
      "[ 0.33333334  1.         -0.33333334] {0, 1, 4, 5, 14, 15}\n"
     ]
    }
   ],
   "source": [
    "sets = [set() for _ in range(count)]\n",
    "\n",
    "for i, shape_i, prim_i in zip(indices, interaction_shapes, prim_indices):\n",
    "    # print(i, shape_i, prim_i)\n",
    "    # shape_i -= 1\n",
    "    # shape_id = mi_scene.shapes()[shape_i].id()\n",
    "    offset = shape_ptr_to_offset[shape_i]\n",
    "    sets[i // ray_per_source].add(offset + prim_i)\n",
    "\n",
    "# for i in range(len(a)):\n",
    "#     vis = a[i]\n",
    "#     if vis < count:\n",
    "#         cur_shape = interaction_shapes[i] - 1\n",
    "#         cur_shape = mi_scene.shapes()[cur_shape].id()\n",
    "#         offset = shape_offset[cur_shape]\n",
    "#         # offset = mi_scene.shapes[collision_shape_i].id()\n",
    "#         sets[i // ray_per_source].add(vis + offset)\n",
    "\n",
    "sets\n",
    "for i, s in enumerate(face_averages.numpy().T):\n",
    "    print(s, sets[i])"
   ]
  },
  {
   "cell_type": "code",
   "execution_count": 10,
   "id": "32ec1cc9",
   "metadata": {},
   "outputs": [
    {
     "data": {
      "text/plain": [
       "[[-0.333333, 4.05719, 0.471405],\n",
       " [0.333333, 4.5286, 0.942809],\n",
       " [1, 5, 0.471405],\n",
       " .. 30 skipped ..,\n",
       " [1, -0.333333, -0.333333],\n",
       " [-0.333333, 1, 0.333333],\n",
       " [0.333333, 1, -0.333333]]"
      ]
     },
     "execution_count": 10,
     "metadata": {},
     "output_type": "execute_result"
    }
   ],
   "source": [
    "face_averages\n"
   ]
  },
  {
   "cell_type": "code",
   "execution_count": 11,
   "id": "d28a847a",
   "metadata": {},
   "outputs": [
    {
     "name": "stdout",
     "output_type": "stream",
     "text": [
      "(115, 3)\n",
      "[34 35 14 15 34 35 14 15 34 35 14 15 34 35 14 15 19 18 19 14 15 18 19 14\n",
      " 15 24 25 27 28 29 24 25 28 29  0  1  4  5 10 11 24 25 28 29  0  1  4  5\n",
      " 10 11 24 25 28 29  5 10 11 28 29 10 11 28 29  0  1 10 11  0  1 10 11  0\n",
      "  1  1  0  1 12 13 14 15  0  1 12 13 14 15 12 12 12 13 14 15 16 12 13 14\n",
      " 15 16 17  4  5  4  5  0  1  4  5 14 15  0  1  4  5 14 15]\n",
      "[[-0.33333334  1.          0.33333334]\n",
      " [ 0.33333334  1.         -0.33333334]\n",
      " [-3.9402404   0.29087383  2.8794847 ]\n",
      " [-4.5396614   0.6964841   2.2752793 ]\n",
      " [-0.33333334  1.          0.33333334]\n",
      " [ 0.33333334  1.         -0.33333334]\n",
      " [-3.9402404   0.29087383  2.8794847 ]\n",
      " [-4.5396614   0.6964841   2.2752793 ]\n",
      " [-0.33333334  1.          0.33333334]\n",
      " [ 0.33333334  1.         -0.33333334]\n",
      " [-3.9402404   0.29087383  2.8794847 ]\n",
      " [-4.5396614   0.6964841   2.2752793 ]\n",
      " [-0.33333334  1.          0.33333334]\n",
      " [ 0.33333334  1.         -0.33333334]\n",
      " [-3.9402404   0.29087383  2.8794847 ]\n",
      " [-4.5396614   0.6964841   2.2752793 ]\n",
      " [-5.409504    0.92644584  2.5570247 ]\n",
      " [-5.6799254   0.75079745  3.4429755 ]\n",
      " [-5.409504    0.92644584  2.5570247 ]\n",
      " [-3.9402404   0.29087383  2.8794847 ]\n",
      " [-4.5396614   0.6964841   2.2752793 ]\n",
      " [-5.6799254   0.75079745  3.4429755 ]\n",
      " [-5.409504    0.92644584  2.5570247 ]\n",
      " [-3.9402404   0.29087383  2.8794847 ]\n",
      " [-4.5396614   0.6964841   2.2752793 ]\n",
      " [-0.33333334  0.33333334  1.        ]\n",
      " [ 0.33333334 -0.33333334  1.        ]\n",
      " [-0.33333334 -1.         -0.33333334]\n",
      " [-1.         -0.33333334  0.33333334]\n",
      " [-1.          0.33333334 -0.33333334]\n",
      " [-0.33333334  0.33333334  1.        ]\n",
      " [ 0.33333334 -0.33333334  1.        ]\n",
      " [-1.         -0.33333334  0.33333334]\n",
      " [-1.          0.33333334 -0.33333334]\n",
      " [-0.33333334  4.0571914   0.47140452]\n",
      " [ 0.33333334  4.528596    0.94280905]\n",
      " [ 0.33333334  4.0571914  -0.47140452]\n",
      " [-0.33333334  4.528596   -0.94280905]\n",
      " [-1.          4.528596    0.        ]\n",
      " [-1.          5.4714046   0.        ]\n",
      " [-0.33333334  0.33333334  1.        ]\n",
      " [ 0.33333334 -0.33333334  1.        ]\n",
      " [-1.         -0.33333334  0.33333334]\n",
      " [-1.          0.33333334 -0.33333334]\n",
      " [-0.33333334  4.0571914   0.47140452]\n",
      " [ 0.33333334  4.528596    0.94280905]\n",
      " [ 0.33333334  4.0571914  -0.47140452]\n",
      " [-0.33333334  4.528596   -0.94280905]\n",
      " [-1.          4.528596    0.        ]\n",
      " [-1.          5.4714046   0.        ]\n",
      " [-0.33333334  0.33333334  1.        ]\n",
      " [ 0.33333334 -0.33333334  1.        ]\n",
      " [-1.         -0.33333334  0.33333334]\n",
      " [-1.          0.33333334 -0.33333334]\n",
      " [-0.33333334  4.528596   -0.94280905]\n",
      " [-1.          4.528596    0.        ]\n",
      " [-1.          5.4714046   0.        ]\n",
      " [-1.         -0.33333334  0.33333334]\n",
      " [-1.          0.33333334 -0.33333334]\n",
      " [-1.          4.528596    0.        ]\n",
      " [-1.          5.4714046   0.        ]\n",
      " [-1.         -0.33333334  0.33333334]\n",
      " [-1.          0.33333334 -0.33333334]\n",
      " [-0.33333334  4.0571914   0.47140452]\n",
      " [ 0.33333334  4.528596    0.94280905]\n",
      " [-1.          4.528596    0.        ]\n",
      " [-1.          5.4714046   0.        ]\n",
      " [-0.33333334  4.0571914   0.47140452]\n",
      " [ 0.33333334  4.528596    0.94280905]\n",
      " [-1.          4.528596    0.        ]\n",
      " [-1.          5.4714046   0.        ]\n",
      " [-0.33333334  4.0571914   0.47140452]\n",
      " [ 0.33333334  4.528596    0.94280905]\n",
      " [ 0.33333334  4.528596    0.94280905]\n",
      " [-0.33333334  4.0571914   0.47140452]\n",
      " [ 0.33333334  4.528596    0.94280905]\n",
      " [-4.8267746  -1.0799167   2.8387704 ]\n",
      " [-4.083797   -0.5973266   3.1612298 ]\n",
      " [-3.9402404   0.29087383  2.8794847 ]\n",
      " [-4.5396614   0.6964841   2.2752793 ]\n",
      " [-0.33333334  4.0571914   0.47140452]\n",
      " [ 0.33333334  4.528596    0.94280905]\n",
      " [-4.8267746  -1.0799167   2.8387704 ]\n",
      " [-4.083797   -0.5973266   3.1612298 ]\n",
      " [-3.9402404   0.29087383  2.8794847 ]\n",
      " [-4.5396614   0.6964841   2.2752793 ]\n",
      " [-4.8267746  -1.0799167   2.8387704 ]\n",
      " [-4.8267746  -1.0799167   2.8387704 ]\n",
      " [-4.8267746  -1.0799167   2.8387704 ]\n",
      " [-4.083797   -0.5973266   3.1612298 ]\n",
      " [-3.9402404   0.29087383  2.8794847 ]\n",
      " [-4.5396614   0.6964841   2.2752793 ]\n",
      " [-4.9194956  -0.34518716  1.9528196 ]\n",
      " [-4.8267746  -1.0799167   2.8387704 ]\n",
      " [-4.083797   -0.5973266   3.1612298 ]\n",
      " [-3.9402404   0.29087383  2.8794847 ]\n",
      " [-4.5396614   0.6964841   2.2752793 ]\n",
      " [-4.9194956  -0.34518716  1.9528196 ]\n",
      " [-5.7893386  -0.11522536  2.2345653 ]\n",
      " [ 0.33333334  4.0571914  -0.47140452]\n",
      " [-0.33333334  4.528596   -0.94280905]\n",
      " [ 0.33333334  4.0571914  -0.47140452]\n",
      " [-0.33333334  4.528596   -0.94280905]\n",
      " [-0.33333334  4.0571914   0.47140452]\n",
      " [ 0.33333334  4.528596    0.94280905]\n",
      " [ 0.33333334  4.0571914  -0.47140452]\n",
      " [-0.33333334  4.528596   -0.94280905]\n",
      " [-3.9402404   0.29087383  2.8794847 ]\n",
      " [-4.5396614   0.6964841   2.2752793 ]\n",
      " [-0.33333334  4.0571914   0.47140452]\n",
      " [ 0.33333334  4.528596    0.94280905]\n",
      " [ 0.33333334  4.0571914  -0.47140452]\n",
      " [-0.33333334  4.528596   -0.94280905]\n",
      " [-3.9402404   0.29087383  2.8794847 ]\n",
      " [-4.5396614   0.6964841   2.2752793 ]]\n"
     ]
    }
   ],
   "source": [
    "sizes = [len(s) for s in sets]\n",
    "face_averages_np = face_averages.numpy().T\n",
    "starts = np.repeat(face_averages_np, repeats=sizes, axis=0)\n",
    "print(starts.shape)\n",
    "\n",
    "ends_indices = []\n",
    "for s in sets:\n",
    "    for shape in s:\n",
    "        ends_indices.append(shape)\n",
    "\n",
    "ends_indices = np.array(ends_indices)\n",
    "print(ends_indices)\n",
    "ends = face_averages_np[ends_indices]\n",
    "ends.shape\n",
    "\n",
    "print(ends)"
   ]
  },
  {
   "cell_type": "code",
   "execution_count": 12,
   "id": "becfa93e",
   "metadata": {},
   "outputs": [
    {
     "data": {
      "application/vnd.jupyter.widget-view+json": {
       "model_id": "9d1f85b5e2fc420fb17f115c38f5e04f",
       "version_major": 2,
       "version_minor": 0
      },
      "text/plain": [
       "HBox(children=(Renderer(camera=PerspectiveCamera(aspect=1.31, children=(DirectionalLight(intensity=0.25, matri…"
      ]
     },
     "metadata": {},
     "output_type": "display_data"
    }
   ],
   "source": [
    "scene.preview()\n",
    "\n",
    "# This cell is lowkey pretty illegal but here's to being easier to implement\n",
    "## THIS REQUIRES persist=True in call self._add_child(mesh, pmin, pmax, persist=True) in _plot_lines (preview.py)\n",
    "\n",
    "# starts = np.array([[0,0,0],\n",
    "#                    [1, 1, 1]])\n",
    "# ends_indices = np.array([[5,5,5],\n",
    "#                  [-100, -100, 0]])\n",
    "colors = np.array([1.0, 0.0, 0.0], dtype=np.float32)\n",
    "colors = np.tile(colors, (starts.shape[0], 1))\n",
    "# print(colors)\n",
    "# print(colors.dtype)\n",
    "width = np.array(1.0)\n",
    "scene._preview_widget._plot_lines(starts, ends, colors, width)"
   ]
  }
 ],
 "metadata": {
  "kernelspec": {
   "display_name": "dataenv",
   "language": "python",
   "name": "python3"
  },
  "language_info": {
   "codemirror_mode": {
    "name": "ipython",
    "version": 3
   },
   "file_extension": ".py",
   "mimetype": "text/x-python",
   "name": "python",
   "nbconvert_exporter": "python",
   "pygments_lexer": "ipython3",
   "version": "3.11.11"
  }
 },
 "nbformat": 4,
 "nbformat_minor": 5
}
