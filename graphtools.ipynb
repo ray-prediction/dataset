{
 "cells": [
  {
   "cell_type": "code",
   "execution_count": null,
   "metadata": {},
   "outputs": [],
   "source": [
    "import sionna.rt\n",
    "from sionna.rt import load_scene, PlanarArray, Receiver, Transmitter\n",
    "\n",
    "import mitsuba as mi\n",
    "import drjit as dr\n",
    "import numpy as np\n",
    "import torch"
   ]
  },
  {
   "cell_type": "code",
   "execution_count": null,
   "metadata": {},
   "outputs": [],
   "source": [
    "# scene = load_scene(filename=\"cubes/cubes.xml\")\n",
    "scene = load_scene(filename=\"cubes/cubes.xml\")\n",
    "scene.rx_array = PlanarArray(num_rows=1,\n",
    "                          num_cols=1,\n",
    "                          vertical_spacing=0.5,\n",
    "                          horizontal_spacing=0.5,\n",
    "                          polarization=\"V\",\n",
    "                          pattern=\"iso\")\n",
    "\n",
    "scene.tx_array = PlanarArray(num_rows=1,\n",
    "                          num_cols=1,\n",
    "                          vertical_spacing=0.5,\n",
    "                          horizontal_spacing=0.5,\n",
    "                          polarization=\"V\",\n",
    "                          pattern=\"iso\")\n"
   ]
  },
  {
   "cell_type": "code",
   "execution_count": null,
   "metadata": {},
   "outputs": [],
   "source": [
    "# scene.preview()"
   ]
  },
  {
   "cell_type": "code",
   "execution_count": null,
   "metadata": {},
   "outputs": [],
   "source": [
    "mi_scene = scene.mi_scene"
   ]
  },
  {
   "cell_type": "code",
   "execution_count": null,
   "metadata": {},
   "outputs": [],
   "source": [
    "shapes = mi_scene.shapes_dr()\n",
    "\n",
    "# Will throw an error if there is a non-mesh shape\n",
    "shapes = mi.MeshPtr(shapes)\n",
    "\n",
    "face_normals = [\n",
    "    s.face_normal(dr.arange(dr.cuda.UInt, s.face_count())).torch().T for s in shapes\n",
    "]\n",
    "face_normals = torch.vstack(face_normals)\n",
    "\n",
    "# Find the average between the 3 vertices of a triangle mesh\n",
    "# This will be the source for ray intersection testing\n",
    "face_averages = []\n",
    "for s in shapes:\n",
    "    indices = dr.arange(dr.cuda.UInt, s.face_count())\n",
    "    vertex_indices = dr.ravel(s.face_indices(indices), order='F')\n",
    "    vertices = s.vertex_position(vertex_indices)\n",
    "    vertices = vertices.torch().T.reshape(-1, 3, 3)\n",
    "    face_averages.append(vertices)\n",
    "\n",
    "face_averages = torch.vstack(face_averages)\n",
    "face_averages = face_averages.sum(1) / 3\n",
    "\n",
    "# print(face_averages.shape)\n",
    "# print(face_averages)"
   ]
  },
  {
   "cell_type": "code",
   "execution_count": null,
   "metadata": {},
   "outputs": [],
   "source": [
    "# i = 0\n",
    "# for face_avg in face_averages[3:6]:\n",
    "#     # print(face_avg)\n",
    "#     rx = Receiver(name=f\"rx{i}\", position=face_avg)\n",
    "#     scene.add(rx)\n",
    "#     i += 1\n",
    "\n",
    "# # rx = Receiver(position=face_averages)\n",
    "# # scene.add(rx)"
   ]
  },
  {
   "cell_type": "code",
   "execution_count": null,
   "metadata": {},
   "outputs": [],
   "source": [
    "# offset_normals = face_normals + face_averages\n",
    "\n",
    "# i = 0\n",
    "# for face_n in offset_normals:\n",
    "#     # print(face_n)\n",
    "#     tx = Transmitter(name=f\"tx{i}\", position=face_n)\n",
    "#     scene.add(tx)\n",
    "#     i += 1\n",
    "# # tx = Transmitter(position=offset_normals)\n",
    "# # scene.add(tx)\n",
    "\n",
    "# scene.preview()"
   ]
  },
  {
   "cell_type": "code",
   "execution_count": null,
   "metadata": {},
   "outputs": [],
   "source": [
    "face_averages = mi.Point3f(face_averages.T)\n",
    "face_normals = mi.Vector3f(face_normals.T)\n",
    "print(face_averages)\n",
    "print(face_normals)\n"
   ]
  },
  {
   "cell_type": "code",
   "execution_count": null,
   "metadata": {},
   "outputs": [],
   "source": [
    "# Generate rays to be shot from each surface in 180 cone\n",
    "# Currently generates 360 then filters based on dot product\n",
    "\n",
    "from sionna.rt.utils import fibonacci_lattice, spawn_ray_from_sources\n",
    "ray_per_source = 1000\n",
    "\n",
    "sources = face_averages + (face_normals * 0.0001)\n",
    "rays = spawn_ray_from_sources(fibonacci_lattice, ray_per_source, sources) \n",
    "print(rays)\n",
    "\n",
    "norms_expanded = dr.repeat(face_normals, ray_per_source)\n",
    "print(norms_expanded)\n",
    "# shouldn't this be positive dot prod???\n",
    "active = dr.dot(rays.d, norms_expanded) > 0\n",
    "print(active)"
   ]
  },
  {
   "cell_type": "code",
   "execution_count": null,
   "metadata": {},
   "outputs": [],
   "source": [
    "interactions = mi_scene.ray_intersect_preliminary(rays, active=active)\n",
    "\n",
    "count = 0\n",
    "for s in mi_scene.shapes():\n",
    "    count += s.primitive_count()\n",
    "\n",
    "a=dr.select(interactions.is_valid() & (interactions.t > 1.5), interactions.prim_index, dr.cuda.UInt(count)).numpy()\n",
    "b=dr.select(interactions.is_valid(), interactions.t, dr.cuda.Float32(-1)).numpy()\n",
    "\n",
    "# for i in range(len(a)):\n",
    "#     print(a[i], b[i])\n",
    "\n",
    "\n",
    "\n",
    "# for i, b in enumerate(a):\n",
    "#     print(b, interactions.prim_index[i])\n"
   ]
  },
  {
   "cell_type": "markdown",
   "metadata": {},
   "source": [
    "# Need to check to make sure ray is intersecting with the correct side of plane!!!!!!\n",
    "# Should just be checking to make sure [ray direction] dot [norm is positive] > threshold? "
   ]
  },
  {
   "cell_type": "code",
   "execution_count": null,
   "metadata": {},
   "outputs": [],
   "source": [
    "\n",
    "sets = [set() for _ in range(count)]\n",
    "\n",
    "for i in range(len(a)):\n",
    "    vis = a[i]\n",
    "    if vis < count:\n",
    "        sets[i // ray_per_source].add(vis)\n",
    "\n",
    "sets\n",
    "for i, s in enumerate(face_averages.numpy().T):\n",
    "    print(s, sets[i])\n",
    "\n",
    "scene"
   ]
  },
  {
   "cell_type": "markdown",
   "metadata": {},
   "source": [
    "interactions is 1d array num faces x rays per source long\n",
    "reshape"
   ]
  },
  {
   "cell_type": "code",
   "execution_count": null,
   "metadata": {},
   "outputs": [],
   "source": [
    "sizes = [len(s) for s in sets]\n",
    "face_averages_np = face_averages.numpy().T\n",
    "starts = np.repeat(face_averages_np, repeats=sizes, axis=0)\n",
    "print(starts.shape)\n",
    "\n",
    "ends_indices = []\n",
    "for s in sets:\n",
    "    for shape in s:\n",
    "        ends_indices.append(shape)\n",
    "\n",
    "ends_indices = np.array(ends_indices)\n",
    "ends = face_averages_np[ends_indices]\n",
    "ends.shape"
   ]
  },
  {
   "cell_type": "code",
   "execution_count": null,
   "metadata": {},
   "outputs": [],
   "source": [
    "scene.preview()"
   ]
  },
  {
   "cell_type": "code",
   "execution_count": null,
   "metadata": {},
   "outputs": [],
   "source": [
    "# This cell is lowkey pretty illegal but here's to being easier to implement\n",
    "## THIS REQUIRES persist=True in call self._add_child(mesh, pmin, pmax, persist=True) in _plot_lines (preview.py)\n",
    "\n",
    "# starts = np.array([[0,0,0],\n",
    "#                    [1, 1, 1]])\n",
    "# ends_indices = np.array([[5,5,5],\n",
    "#                  [-100, -100, 0]])\n",
    "colors = np.array([1.0, 0.0, 0.0], dtype=np.float32)\n",
    "colors = np.tile(colors, (starts.shape[0], 1))\n",
    "# print(colors)\n",
    "# print(colors.dtype)\n",
    "width = np.array(1.0)\n",
    "scene._preview_widget._plot_lines(starts, ends, colors, width)"
   ]
  },
  {
   "cell_type": "code",
   "execution_count": null,
   "metadata": {},
   "outputs": [],
   "source": [
    "scene.preview()"
   ]
  }
 ],
 "metadata": {
  "kernelspec": {
   "display_name": ".venv",
   "language": "python",
   "name": "python3"
  },
  "language_info": {
   "codemirror_mode": {
    "name": "ipython",
    "version": 3
   },
   "file_extension": ".py",
   "mimetype": "text/x-python",
   "name": "python",
   "nbconvert_exporter": "python",
   "pygments_lexer": "ipython3",
   "version": "3.11.2"
  }
 },
 "nbformat": 4,
 "nbformat_minor": 2
}
